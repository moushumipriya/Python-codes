{
  "nbformat": 4,
  "nbformat_minor": 0,
  "metadata": {
    "colab": {
      "provenance": [],
      "authorship_tag": "ABX9TyPZz2L3R3xysF5y8cobLWTM",
      "include_colab_link": true
    },
    "kernelspec": {
      "name": "python3",
      "display_name": "Python 3"
    },
    "language_info": {
      "name": "python"
    }
  },
  "cells": [
    {
      "cell_type": "markdown",
      "metadata": {
        "id": "view-in-github",
        "colab_type": "text"
      },
      "source": [
        "<a href=\"https://colab.research.google.com/github/moushumipriya/moushumipriya/blob/main/Untitled13.ipynb\" target=\"_parent\"><img src=\"https://colab.research.google.com/assets/colab-badge.svg\" alt=\"Open In Colab\"/></a>"
      ]
    },
    {
      "cell_type": "code",
      "execution_count": null,
      "metadata": {
        "id": "osrGhSxaY7UY"
      },
      "outputs": [],
      "source": [
        "\n",
        "# Write a Python program to find validity of a string of parentheses, '(', ')', '{', '}', '[' and '].\n",
        "# These brackets must be close in the correct order,\n",
        "\n",
        "class py_solution:\n",
        "   def is_valid_parenthese(self, str1):\n",
        "        stack, pchar = [], {\"(\": \")\", \"{\": \"}\", \"[\": \"]\"}\n",
        "        for parenthese in str1:\n",
        "            if parenthese in pchar:\n",
        "                stack.append(parenthese)\n",
        "            elif len(stack) == 0 or pchar[stack.pop()] != parenthese:\n",
        "                return False\n",
        "        return len(stack) == 0\n",
        "\n",
        "print(py_solution().is_valid_parenthese(\"(){}[]\"))\n",
        "print(py_solution().is_valid_parenthese(\"()[{)}\"))\n",
        "print(py_solution().is_valid_parenthese(\"()\"))"
      ]
    }
  ]
}