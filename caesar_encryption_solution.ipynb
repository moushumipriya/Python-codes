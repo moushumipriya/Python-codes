{
  "cells": [
    {
      "cell_type": "markdown",
      "metadata": {
        "id": "view-in-github",
        "colab_type": "text"
      },
      "source": [
        "<a href=\"https://colab.research.google.com/github/moushumipriya/moushumipriya/blob/main/caesar_encryption_solution.ipynb\" target=\"_parent\"><img src=\"https://colab.research.google.com/assets/colab-badge.svg\" alt=\"Open In Colab\"/></a>"
      ]
    },
    {
      "cell_type": "code",
      "execution_count": null,
      "metadata": {
        "id": "74pDIJfgPkOq",
        "outputId": "4745cc1a-71fa-432b-f759-903ebe5515fa"
      },
      "outputs": [
        {
          "name": "stdout",
          "output_type": "stream",
          "text": [
            "\n",
            "['e', 'f', 'g', 'f', 'o', 'e', 'u', 'i', 'f', 'f', 'b', 't', 'u', 'x', 'b', 'm', 'm', 'p', 'g', 'u', 'i', 'f', 'd', 'b', 't', 'u', 'm', 'f']\n",
            "\n"
          ]
        }
      ],
      "source": [
        "\n",
        "\n",
        "def caesar_encrypt(realText, step):\n",
        "\toutText = []\n",
        "\tcryptText = []\n",
        "\n",
        "\tuppercase = ['A', 'B', 'C', 'D', 'E', 'F', 'G', 'H', 'I', 'J', 'K', 'L', 'M', 'N', 'O', 'P', 'Q', 'R', 'S', 'T', 'U', 'V', 'W', 'X', 'Y', 'Z']\n",
        "\tlowercase = ['a', 'b', 'c', 'd', 'e', 'f', 'g', 'h', 'i', 'j', 'k', 'l', 'm', 'n', 'o', 'p', 'q', 'r', 's', 't', 'u', 'v', 'w', 'x', 'y', 'z']\n",
        "\n",
        "\tfor eachLetter in realText:\n",
        "\t\tif eachLetter in uppercase:\n",
        "\t\t\tindex = uppercase.index(eachLetter)\n",
        "\t\t\tcrypting = (index + step) % 26\n",
        "\t\t\tcryptText.append(crypting)\n",
        "\t\t\tnewLetter = uppercase[crypting]\n",
        "\t\t\toutText.append(newLetter)\n",
        "\t\telif eachLetter in lowercase:\n",
        "\t\t\tindex = lowercase.index(eachLetter)\n",
        "\t\t\tcrypting = (index + step) % 26\n",
        "\t\t\tcryptText.append(crypting)\n",
        "\t\t\tnewLetter = lowercase[crypting]\n",
        "\t\t\toutText.append(newLetter)\n",
        "\treturn outText\n",
        "\n",
        "code = caesar_encrypt('defend the east wall of the castle', 1)\n",
        "print()\n",
        "print(code)\n",
        "print()"
      ]
    }
  ],
  "metadata": {
    "kernelspec": {
      "display_name": "Python 2",
      "language": "python",
      "name": "python2"
    },
    "language_info": {
      "codemirror_mode": {
        "name": "ipython",
        "version": 2
      },
      "file_extension": ".py",
      "mimetype": "text/x-python",
      "name": "python",
      "nbconvert_exporter": "python",
      "pygments_lexer": "ipython2",
      "version": "2.7.13"
    },
    "colab": {
      "provenance": [],
      "include_colab_link": true
    }
  },
  "nbformat": 4,
  "nbformat_minor": 0
}