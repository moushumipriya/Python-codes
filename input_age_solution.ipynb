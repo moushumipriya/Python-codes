{
  "cells": [
    {
      "cell_type": "markdown",
      "metadata": {
        "id": "view-in-github",
        "colab_type": "text"
      },
      "source": [
        "<a href=\"https://colab.research.google.com/github/moushumipriya/moushumipriya/blob/main/input_age_solution.ipynb\" target=\"_parent\"><img src=\"https://colab.research.google.com/assets/colab-badge.svg\" alt=\"Open In Colab\"/></a>"
      ]
    },
    {
      "cell_type": "code",
      "execution_count": 6,
      "metadata": {
        "id": "7qsv_Yn4SwEz",
        "outputId": "02a9ceb0-e0fc-48d2-dfcd-ae6efa78e33c",
        "colab": {
          "base_uri": "https://localhost:8080/"
        }
      },
      "outputs": [
        {
          "output_type": "stream",
          "name": "stdout",
          "text": [
            "What is your name: priya\n",
            "How old are you: 25\n",
            "priya will be 60 years old in the year 2059\n"
          ]
        }
      ],
      "source": [
        "\n",
        "# Create a program that asks the user to enter their name and their age.\n",
        "# Print out a message addressed to them that tells them the year that they will turn 60 years old.\n",
        "\n",
        "name = input(\"What is your name: \")\n",
        "age = int(input(\"How old are you: \"))\n",
        "year = str((2024 - age)+60)\n",
        "print(name + \" will be 60 years old in the year \" + year)"
      ]
    }
  ],
  "metadata": {
    "kernelspec": {
      "display_name": "Python 3",
      "name": "python3"
    },
    "language_info": {
      "name": "python"
    },
    "colab": {
      "provenance": [],
      "include_colab_link": true
    }
  },
  "nbformat": 4,
  "nbformat_minor": 0
}